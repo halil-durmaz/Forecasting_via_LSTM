{
  "nbformat": 4,
  "nbformat_minor": 0,
  "metadata": {
    "colab": {
      "name": "Time-Series forecasting via LSTM",
      "provenance": [],
      "collapsed_sections": []
    },
    "kernelspec": {
      "name": "python3",
      "display_name": "Python 3"
    },
    "accelerator": "TPU"
  },
  "cells": [
    {
      "cell_type": "markdown",
      "metadata": {
        "id": "XdwFh9rz4r72"
      },
      "source": [
        "# <font color=\"red\"> <font size=\"10px\"> Load the required functions and classes </font>"
      ]
    },
    {
      "cell_type": "code",
      "metadata": {
        "id": "69r2ZglGb21H"
      },
      "source": [
        "# Essentials                         \n",
        "import numpy\n",
        "import pandas\n",
        "import matplotlib.pyplot as plt\n",
        "\n",
        "\n",
        "# Model related\n",
        "from keras.models import Sequential\n",
        "from keras.layers import Dense\n",
        "from keras.layers import LSTM\n",
        "\n",
        "\n",
        "# Others\n",
        "from sklearn.preprocessing import MinMaxScaler\n",
        "from sklearn.metrics import mean_squared_error\n",
        "from keras.metrics import RootMeanSquaredError\n",
        "from IPython.display import display_html             # To be able to display Pandas DataFrames side by side "
      ],
      "execution_count": 1,
      "outputs": []
    },
    {
      "cell_type": "markdown",
      "metadata": {
        "id": "1k6RmuS74298"
      },
      "source": [
        "<br>\n",
        "<br>\n",
        "<br>\n",
        "<br>\n",
        "<br>\n",
        "<br>\n",
        "<br>\n",
        "<br>\n",
        "<br>\n",
        "<br>\n",
        "\n",
        "# <font color=\"red\"> <font size=\"10px\"> Import the dataset and observe </font>"
      ]
    },
    {
      "cell_type": "code",
      "metadata": {
        "id": "H5Xl5bX1WaqT"
      },
      "source": [
        "dataset = pandas.read_csv(\"https://raw.githubusercontent.com/halil-durmaz/Datasets/main/irandata.csv\")"
      ],
      "execution_count": 2,
      "outputs": []
    },
    {
      "cell_type": "code",
      "source": [
        "####################\n",
        "# Quick observation\n",
        "####################\n",
        "\n",
        "fig, ax = plt.subplots(figsize=(10,4))     # Size of the figure\n",
        "\n",
        "plt.plot(dataset)"
      ],
      "metadata": {
        "colab": {
          "base_uri": "https://localhost:8080/",
          "height": 282
        },
        "id": "TcEooaiBK_9w",
        "outputId": "7cbe4818-114a-4662-c95c-534553fadc02"
      },
      "execution_count": 3,
      "outputs": [
        {
          "output_type": "execute_result",
          "data": {
            "text/plain": [
              "[<matplotlib.lines.Line2D at 0x7f6191119f50>]"
            ]
          },
          "metadata": {},
          "execution_count": 3
        },
        {
          "output_type": "display_data",
          "data": {
            "text/plain": [
              "<Figure size 720x288 with 1 Axes>"
            ],
            "image/png": "[encoded data removed]"
          },
          "metadata": {
            "needs_background": "light"
          }
        }
      ]
    },
    {
      "cell_type": "markdown",
      "source": [
        "- Seasonality"
      ],
      "metadata": {
        "id": "RHU8KwjKL2UJ"
      }
    },
    {
      "cell_type": "code",
      "source": [
        "dataset = dataset.values                      # Pandas DataFrame ---> Numpy Array\n",
        "dataset = dataset.astype('float32')           # int ---> float. To prepare the values for normalizing"
      ],
      "metadata": {
        "id": "RSV1uZIqK_Tt"
      },
      "execution_count": 4,
      "outputs": []
    },
    {
      "cell_type": "markdown",
      "metadata": {
        "id": "K4ism6Xw45L0"
      },
      "source": [
        "<br>\n",
        "<br>\n",
        "<br>\n",
        "<br>\n",
        "<br>\n",
        "<br>\n",
        "<br>\n",
        "<br>\n",
        "<br>\n",
        "<br>\n",
        "\n",
        "# <font color=\"red\"> <font size=\"10px\"> Set the seed </font>\n",
        "\n",
        "- The purpose is to be able to reproduce the same results everytime"
      ]
    },
    {
      "cell_type": "code",
      "metadata": {
        "id": "xtTXLsm1cVLy"
      },
      "source": [
        "numpy.random.seed(555)"
      ],
      "execution_count": 5,
      "outputs": []
    },
    {
      "cell_type": "markdown",
      "metadata": {
        "id": "7sCxfpc9mAws"
      },
      "source": [
        "<br>\n",
        "<br>\n",
        "<br>\n",
        "<br>\n",
        "<br>\n",
        "<br>\n",
        "<br>\n",
        "<br>\n",
        "<br>\n",
        "<br>\n",
        "\n",
        "# <font color=\"red\"> <font size=\"10px\"> Normalizing </font>\n",
        "- LSTM networks have sensitivity for the scales of the input variables."
      ]
    },
    {
      "cell_type": "code",
      "metadata": {
        "id": "gIXURMXdjrfh"
      },
      "source": [
        "normalizer = MinMaxScaler(feature_range=(0,1))     # Creation of the \"Normalizer\" model. Values will be scaled in the 0-1 range \n",
        "\n",
        "dataset = normalizer.fit_transform(dataset)        # Train the model + Transform the values"
      ],
      "execution_count": 6,
      "outputs": []
    },
    {
      "cell_type": "markdown",
      "metadata": {
        "id": "lsRKytYn5Bbu"
      },
      "source": [
        "<br>\n",
        "<br>\n",
        "<br>\n",
        "<br>\n",
        "<br>\n",
        "<br>\n",
        "<br>\n",
        "<br>\n",
        "<br>\n",
        "<br>\n",
        "\n",
        "# <font color=\"red\"> <font size=\"10px\"> Split into \"Training set\" & \"Testing set\" </font>"
      ]
    },
    {
      "cell_type": "markdown",
      "metadata": {
        "id": "iqiUspRaoGIz"
      },
      "source": [
        "- In a Time-Series data, the order of the data matters. It is a sequential dataset. Therefore, assigning the observations in the dataset into both Training set and Testing set \"randomly\" is not reasonable. That is why, we will perform this operation by using the index values of the rows"
      ]
    },
    {
      "cell_type": "code",
      "metadata": {
        "id": "pkGVGhcLmrlo"
      },
      "source": [
        "training_upperboundary = int(len(dataset) * 0.8)                                  # First %80 of the observations will generate the Training set\n",
        "\n",
        "training_set, testing_set = dataset[0:training_upperboundary, :], dataset[training_upperboundary:len(dataset), :]"
      ],
      "execution_count": 7,
      "outputs": []
    },
    {
      "cell_type": "markdown",
      "metadata": {
        "id": "BS6LqFdg5TZx"
      },
      "source": [
        "<br>\n",
        "<br>\n",
        "<br>\n",
        "<br>\n",
        "<br>\n",
        "<br>\n",
        "<br>\n",
        "<br>\n",
        "<br>\n",
        "<br>\n",
        "\n",
        "# <font color=\"red\"> <font size=\"10px\"> Split the 2 sets into \"X\" & \"y\" portions </font>\n",
        "\n",
        "- An example schema to understand the upcoming operation:\n",
        "\n",
        "![schema](https://cdn.imageupload.workers.dev/MORdYavD_screen.png)\n",
        "\n",
        "<br>\n",
        "\n",
        "- In order to make a prediction, we will get last 2 (time step) observation:\n",
        "><u>Example 1:</u> In order to predict a, we will need 50 and 60<br>\n",
        "><u>Example 2:</u> In order to predict b, we will need 60 and a\n",
        "\n",
        "<br>\n",
        "\n",
        "- If the value of `amount_timestep` variable is 3, `X_train` will have 3 columns<br>\n",
        "However, `y_train` will always have 1 column\n"
      ]
    },
    {
      "cell_type": "code",
      "metadata": {
        "id": "FSUc1jqIwy-f"
      },
      "source": [
        "####################################################\n",
        "# Create a function that will perform the operation\n",
        "####################################################\n",
        "def create_dataset(dataset, amount_timestep):\n",
        "        X_data, y_data = [], []\n",
        "        \n",
        "        for i in range(len(dataset)-amount_timestep-1):\n",
        "                  a = dataset[i:(i+amount_timestep), 0]\n",
        "                  X_data.append(a)\n",
        "                  y_data.append(dataset[i + amount_timestep, 0])\n",
        "        \n",
        "        return numpy.array(X_data), numpy.array(y_data)\n",
        "\n",
        "\n",
        "########################\n",
        "# Perform the operation\n",
        "########################\n",
        "amount_timestep = 2                                    # Define it here, since the value will be used later on as well\n",
        "\n",
        "X_train, y_train = create_dataset(training_set, amount_timestep)\n",
        "X_test, y_test   = create_dataset(testing_set, amount_timestep)"
      ],
      "execution_count": 8,
      "outputs": []
    },
    {
      "cell_type": "markdown",
      "source": [
        "<br>\n",
        "<br>\n",
        "\n",
        "- Let's see `X_train` and `y_train` side by side"
      ],
      "metadata": {
        "id": "IO38QsIeiy5n"
      }
    },
    {
      "cell_type": "code",
      "source": [
        "########################\n",
        "# Create the DataFrames\n",
        "########################\n",
        "temporary_X_train = pandas.DataFrame(X_train)\n",
        "temporary_y_train = pandas.DataFrame(y_train)\n",
        "\n",
        "\n",
        "#######################\n",
        "# Display side by side\n",
        "#######################\n",
        "temporary_X_train_style = temporary_X_train.head(7).style.set_table_attributes(\"style='display:inline; margin-right:20px;'\").set_caption(\"X_train\")\n",
        "temporary_y_train_style = temporary_y_train.head(7).style.set_table_attributes(\"style='display:inline'\").set_caption(\"y_train\")\n",
        "\n",
        "display_html(temporary_X_train_style._repr_html_() + temporary_y_train_style._repr_html_(), \n",
        "             raw=True)"
      ],
      "metadata": {
        "colab": {
          "base_uri": "https://localhost:8080/",
          "height": 207
        },
        "id": "CwKLpb8AiyCV",
        "outputId": "b86f53b1-d75e-4721-ea0c-fb75100f7796"
      },
      "execution_count": 9,
      "outputs": [
        {
          "output_type": "display_data",
          "data": {
            "text/html": [
              "<style type=\"text/css\">\n",
              "</style>\n",
              "<table id=\"T_1c7fb_\" style='display:inline; margin-right:20px;'>\n",
              "  <caption>X_train</caption>\n",
              "  <thead>\n",
              "    <tr>\n",
              "      <th class=\"blank level0\" >&nbsp;</th>\n",
              "      <th class=\"col_heading level0 col0\" >0</th>\n",
              "      <th class=\"col_heading level0 col1\" >1</th>\n",
              "    </tr>\n",
              "  </thead>\n",
              "  <tbody>\n",
              "    <tr>\n",
              "      <th id=\"T_1c7fb_level0_row0\" class=\"row_heading level0 row0\" >0</th>\n",
              "      <td id=\"T_1c7fb_row0_col0\" class=\"data row0 col0\" >0.000000</td>\n",
              "      <td id=\"T_1c7fb_row0_col1\" class=\"data row0 col1\" >0.002070</td>\n",
              "    </tr>\n",
              "    <tr>\n",
              "      <th id=\"T_1c7fb_level0_row1\" class=\"row_heading level0 row1\" >1</th>\n",
              "      <td id=\"T_1c7fb_row1_col0\" class=\"data row1 col0\" >0.002070</td>\n",
              "      <td id=\"T_1c7fb_row1_col1\" class=\"data row1 col1\" >0.002070</td>\n",
              "    </tr>\n",
              "    <tr>\n",
              "      <th id=\"T_1c7fb_level0_row2\" class=\"row_heading level0 row2\" >2</th>\n",
              "      <td id=\"T_1c7fb_row2_col0\" class=\"data row2 col0\" >0.002070</td>\n",
              "      <td id=\"T_1c7fb_row2_col1\" class=\"data row2 col1\" >0.000000</td>\n",
              "    </tr>\n",
              "    <tr>\n",
              "      <th id=\"T_1c7fb_level0_row3\" class=\"row_heading level0 row3\" >3</th>\n",
              "      <td id=\"T_1c7fb_row3_col0\" class=\"data row3 col0\" >0.000000</td>\n",
              "      <td id=\"T_1c7fb_row3_col1\" class=\"data row3 col1\" >0.008282</td>\n",
              "    </tr>\n",
              "    <tr>\n",
              "      <th id=\"T_1c7fb_level0_row4\" class=\"row_heading level0 row4\" >4</th>\n",
              "      <td id=\"T_1c7fb_row4_col0\" class=\"data row4 col0\" >0.008282</td>\n",
              "      <td id=\"T_1c7fb_row4_col1\" class=\"data row4 col1\" >0.010352</td>\n",
              "    </tr>\n",
              "    <tr>\n",
              "      <th id=\"T_1c7fb_level0_row5\" class=\"row_heading level0 row5\" >5</th>\n",
              "      <td id=\"T_1c7fb_row5_col0\" class=\"data row5 col0\" >0.010352</td>\n",
              "      <td id=\"T_1c7fb_row5_col1\" class=\"data row5 col1\" >0.012422</td>\n",
              "    </tr>\n",
              "    <tr>\n",
              "      <th id=\"T_1c7fb_level0_row6\" class=\"row_heading level0 row6\" >6</th>\n",
              "      <td id=\"T_1c7fb_row6_col0\" class=\"data row6 col0\" >0.012422</td>\n",
              "      <td id=\"T_1c7fb_row6_col1\" class=\"data row6 col1\" >0.016563</td>\n",
              "    </tr>\n",
              "  </tbody>\n",
              "</table>\n",
              "<style type=\"text/css\">\n",
              "</style>\n",
              "<table id=\"T_60581_\" style='display:inline'>\n",
              "  <caption>y_train</caption>\n",
              "  <thead>\n",
              "    <tr>\n",
              "      <th class=\"blank level0\" >&nbsp;</th>\n",
              "      <th class=\"col_heading level0 col0\" >0</th>\n",
              "    </tr>\n",
              "  </thead>\n",
              "  <tbody>\n",
              "    <tr>\n",
              "      <th id=\"T_60581_level0_row0\" class=\"row_heading level0 row0\" >0</th>\n",
              "      <td id=\"T_60581_row0_col0\" class=\"data row0 col0\" >0.002070</td>\n",
              "    </tr>\n",
              "    <tr>\n",
              "      <th id=\"T_60581_level0_row1\" class=\"row_heading level0 row1\" >1</th>\n",
              "      <td id=\"T_60581_row1_col0\" class=\"data row1 col0\" >0.000000</td>\n",
              "    </tr>\n",
              "    <tr>\n",
              "      <th id=\"T_60581_level0_row2\" class=\"row_heading level0 row2\" >2</th>\n",
              "      <td id=\"T_60581_row2_col0\" class=\"data row2 col0\" >0.008282</td>\n",
              "    </tr>\n",
              "    <tr>\n",
              "      <th id=\"T_60581_level0_row3\" class=\"row_heading level0 row3\" >3</th>\n",
              "      <td id=\"T_60581_row3_col0\" class=\"data row3 col0\" >0.010352</td>\n",
              "    </tr>\n",
              "    <tr>\n",
              "      <th id=\"T_60581_level0_row4\" class=\"row_heading level0 row4\" >4</th>\n",
              "      <td id=\"T_60581_row4_col0\" class=\"data row4 col0\" >0.012422</td>\n",
              "    </tr>\n",
              "    <tr>\n",
              "      <th id=\"T_60581_level0_row5\" class=\"row_heading level0 row5\" >5</th>\n",
              "      <td id=\"T_60581_row5_col0\" class=\"data row5 col0\" >0.016563</td>\n",
              "    </tr>\n",
              "    <tr>\n",
              "      <th id=\"T_60581_level0_row6\" class=\"row_heading level0 row6\" >6</th>\n",
              "      <td id=\"T_60581_row6_col0\" class=\"data row6 col0\" >0.018634</td>\n",
              "    </tr>\n",
              "  </tbody>\n",
              "</table>\n"
            ]
          },
          "metadata": {}
        }
      ]
    },
    {
      "cell_type": "markdown",
      "metadata": {
        "id": "c7pfcSyYQ9xF"
      },
      "source": [
        "<br>\n",
        "<br>\n",
        "<br>\n",
        "<br>\n",
        "<br>\n",
        "<br>\n",
        "<br>\n",
        "<br>\n",
        "<br>\n",
        "<br>\n",
        "\n",
        "# <font color=\"red\"> <font size=\"10px\"> Reshape the input </font>\n",
        "\n",
        "- Current dimensions of `X_train` and `X_test` is `[# of samples, Time steps]`. \n",
        "\n",
        "- However, since the LSTM network requires a 3 dimensional object, they will be reshaped"
      ]
    },
    {
      "cell_type": "code",
      "metadata": {
        "colab": {
          "base_uri": "https://localhost:8080/"
        },
        "id": "gD0WKn8WwuZ0",
        "outputId": "de40892d-707d-432c-d7bd-c56ecd2bda9f"
      },
      "source": [
        "print(X_train.shape)\n",
        "print(X_test.shape)"
      ],
      "execution_count": 10,
      "outputs": [
        {
          "output_type": "stream",
          "name": "stdout",
          "text": [
            "(267, 2)\n",
            "(65, 2)\n"
          ]
        }
      ]
    },
    {
      "cell_type": "code",
      "metadata": {
        "id": "k5iaZ2fF5ZKB",
        "colab": {
          "base_uri": "https://localhost:8080/"
        },
        "outputId": "e88a5cc4-a0e5-4f49-beb1-18313db43ee5"
      },
      "source": [
        "##########\n",
        "# X_train\n",
        "##########\n",
        "X_train = numpy.reshape(X_train,                                         # This will be reshaped\n",
        "                       (X_train.shape[0], 1, X_train.shape[1])           # into this shape\n",
        "                       )\n",
        "print(X_train.shape)\n",
        "\n",
        "\n",
        "#########\n",
        "# X_test\n",
        "#########\n",
        "X_test  = numpy.reshape(X_test,                                          # This will be reshaped\n",
        "                       (X_test.shape[0], 1, X_test.shape[1])             # into this shape\n",
        "                       )\n",
        "print(X_test.shape)"
      ],
      "execution_count": 11,
      "outputs": [
        {
          "output_type": "stream",
          "name": "stdout",
          "text": [
            "(267, 1, 2)\n",
            "(65, 1, 2)\n"
          ]
        }
      ]
    },
    {
      "cell_type": "markdown",
      "metadata": {
        "id": "4TxTXXudUMnQ"
      },
      "source": [
        "<br>\n",
        "<br>\n",
        "<br>\n",
        "<br>\n",
        "<br>\n",
        "<br>\n",
        "<br>\n",
        "<br>\n",
        "<br>\n",
        "<br>\n",
        "\n",
        "# <font color=\"red\"> <font size=\"10px\"> LSTM network (not optimized yet) </font>"
      ]
    },
    {
      "cell_type": "markdown",
      "source": [
        "## <font color=\"orange\"> Designing the model </font>"
      ],
      "metadata": {
        "id": "M3EvlnvWzZIA"
      }
    },
    {
      "cell_type": "code",
      "metadata": {
        "id": "U2D89qXLU2mh"
      },
      "source": [
        "model = Sequential()                                 # Create a Sequential model\n",
        "\n",
        "\n",
        "#################\n",
        "# Add the layers\n",
        "#################\n",
        "model.add(LSTM(100,                                   # This will create a hidden layer with 20 blocks\n",
        "               activation=\"relu\",                    # ReLU function, almost always performs much better than Sigmoid function\n",
        "               input_shape=(1, amount_timestep)))       \n",
        "\n",
        "model.add(Dense(1))                                  # 1 output block is required for this problem\n",
        "\n",
        "\n",
        "##########\n",
        "# Compile\n",
        "##########\n",
        "model.compile(loss='mean_squared_error', \n",
        "              optimizer=\"sgd\",\n",
        "              metrics=[RootMeanSquaredError()])      # To report the RMSE"
      ],
      "execution_count": 12,
      "outputs": []
    },
    {
      "cell_type": "markdown",
      "source": [
        "<br>\n",
        "<br>\n",
        "\n",
        "## <font color=\"orange\"> Training the model </font>"
      ],
      "metadata": {
        "id": "Qb0ErsrZ19J2"
      }
    },
    {
      "cell_type": "code",
      "source": [
        "history = model.fit(X_train, y_train,\n",
        "                    validation_data=(X_test, y_test),\n",
        "                    epochs = 25, \n",
        "                    batch_size = 1,\n",
        "                    verbose = 2)                    "
      ],
      "metadata": {
        "colab": {
          "base_uri": "https://localhost:8080/"
        },
        "id": "p74mBGr42D5S",
        "outputId": "be859df2-cc42-4963-8717-f23c26ede94f"
      },
      "execution_count": 13,
      "outputs": [
        {
          "output_type": "stream",
          "name": "stdout",
          "text": [
            "Epoch 1/25\n",
            "267/267 - 3s - loss: 0.0551 - root_mean_squared_error: 0.2348 - val_loss: 0.0716 - val_root_mean_squared_error: 0.2675 - 3s/epoch - 13ms/step\n",
            "Epoch 2/25\n",
            "267/267 - 1s - loss: 0.0413 - root_mean_squared_error: 0.2033 - val_loss: 0.0597 - val_root_mean_squared_error: 0.2444 - 1s/epoch - 5ms/step\n",
            "Epoch 3/25\n",
            "267/267 - 1s - loss: 0.0384 - root_mean_squared_error: 0.1959 - val_loss: 0.0576 - val_root_mean_squared_error: 0.2400 - 1s/epoch - 4ms/step\n",
            "Epoch 4/25\n",
            "267/267 - 1s - loss: 0.0351 - root_mean_squared_error: 0.1873 - val_loss: 0.0555 - val_root_mean_squared_error: 0.2355 - 1s/epoch - 5ms/step\n",
            "Epoch 5/25\n",
            "267/267 - 1s - loss: 0.0319 - root_mean_squared_error: 0.1785 - val_loss: 0.0447 - val_root_mean_squared_error: 0.2115 - 1s/epoch - 5ms/step\n",
            "Epoch 6/25\n",
            "267/267 - 1s - loss: 0.0289 - root_mean_squared_error: 0.1701 - val_loss: 0.0402 - val_root_mean_squared_error: 0.2004 - 987ms/epoch - 4ms/step\n",
            "Epoch 7/25\n",
            "267/267 - 1s - loss: 0.0258 - root_mean_squared_error: 0.1606 - val_loss: 0.0348 - val_root_mean_squared_error: 0.1867 - 862ms/epoch - 3ms/step\n",
            "Epoch 8/25\n",
            "267/267 - 1s - loss: 0.0227 - root_mean_squared_error: 0.1506 - val_loss: 0.0301 - val_root_mean_squared_error: 0.1735 - 1s/epoch - 4ms/step\n",
            "Epoch 9/25\n",
            "267/267 - 1s - loss: 0.0202 - root_mean_squared_error: 0.1422 - val_loss: 0.0285 - val_root_mean_squared_error: 0.1689 - 1s/epoch - 5ms/step\n",
            "Epoch 10/25\n",
            "267/267 - 1s - loss: 0.0176 - root_mean_squared_error: 0.1326 - val_loss: 0.0235 - val_root_mean_squared_error: 0.1533 - 1s/epoch - 4ms/step\n",
            "Epoch 11/25\n",
            "267/267 - 1s - loss: 0.0150 - root_mean_squared_error: 0.1223 - val_loss: 0.0193 - val_root_mean_squared_error: 0.1390 - 865ms/epoch - 3ms/step\n",
            "Epoch 12/25\n",
            "267/267 - 1s - loss: 0.0127 - root_mean_squared_error: 0.1127 - val_loss: 0.0153 - val_root_mean_squared_error: 0.1236 - 867ms/epoch - 3ms/step\n",
            "Epoch 13/25\n",
            "267/267 - 1s - loss: 0.0105 - root_mean_squared_error: 0.1025 - val_loss: 0.0115 - val_root_mean_squared_error: 0.1070 - 1s/epoch - 4ms/step\n",
            "Epoch 14/25\n",
            "267/267 - 1s - loss: 0.0087 - root_mean_squared_error: 0.0932 - val_loss: 0.0097 - val_root_mean_squared_error: 0.0984 - 1s/epoch - 4ms/step\n",
            "Epoch 15/25\n",
            "267/267 - 1s - loss: 0.0071 - root_mean_squared_error: 0.0845 - val_loss: 0.0072 - val_root_mean_squared_error: 0.0846 - 1s/epoch - 5ms/step\n",
            "Epoch 16/25\n",
            "267/267 - 1s - loss: 0.0059 - root_mean_squared_error: 0.0767 - val_loss: 0.0056 - val_root_mean_squared_error: 0.0748 - 1s/epoch - 4ms/step\n",
            "Epoch 17/25\n",
            "267/267 - 1s - loss: 0.0048 - root_mean_squared_error: 0.0693 - val_loss: 0.0044 - val_root_mean_squared_error: 0.0667 - 590ms/epoch - 2ms/step\n",
            "Epoch 18/25\n",
            "267/267 - 0s - loss: 0.0040 - root_mean_squared_error: 0.0629 - val_loss: 0.0035 - val_root_mean_squared_error: 0.0590 - 481ms/epoch - 2ms/step\n",
            "Epoch 19/25\n",
            "267/267 - 1s - loss: 0.0033 - root_mean_squared_error: 0.0572 - val_loss: 0.0028 - val_root_mean_squared_error: 0.0531 - 572ms/epoch - 2ms/step\n",
            "Epoch 20/25\n",
            "267/267 - 1s - loss: 0.0028 - root_mean_squared_error: 0.0528 - val_loss: 0.0024 - val_root_mean_squared_error: 0.0488 - 571ms/epoch - 2ms/step\n",
            "Epoch 21/25\n",
            "267/267 - 1s - loss: 0.0024 - root_mean_squared_error: 0.0488 - val_loss: 0.0021 - val_root_mean_squared_error: 0.0462 - 589ms/epoch - 2ms/step\n",
            "Epoch 22/25\n",
            "267/267 - 0s - loss: 0.0021 - root_mean_squared_error: 0.0460 - val_loss: 0.0019 - val_root_mean_squared_error: 0.0440 - 486ms/epoch - 2ms/step\n",
            "Epoch 23/25\n",
            "267/267 - 1s - loss: 0.0019 - root_mean_squared_error: 0.0437 - val_loss: 0.0018 - val_root_mean_squared_error: 0.0430 - 571ms/epoch - 2ms/step\n",
            "Epoch 24/25\n",
            "267/267 - 1s - loss: 0.0018 - root_mean_squared_error: 0.0419 - val_loss: 0.0018 - val_root_mean_squared_error: 0.0424 - 502ms/epoch - 2ms/step\n",
            "Epoch 25/25\n",
            "267/267 - 1s - loss: 0.0017 - root_mean_squared_error: 0.0407 - val_loss: 0.0020 - val_root_mean_squared_error: 0.0452 - 510ms/epoch - 2ms/step\n"
          ]
        }
      ]
    },
    {
      "cell_type": "markdown",
      "source": [
        "<br>\n",
        "<br>\n",
        "\n",
        "## <font color=\"orange\"> Overfitting & Underfitting analysis by plotting\n",
        " </font>"
      ],
      "metadata": {
        "id": "IyGe6hDS5NGa"
      }
    },
    {
      "cell_type": "code",
      "source": [
        "fig, ax = plt.subplots(figsize=(15, 5))\n",
        "\n",
        "\n",
        "plt.plot(history.history[\"root_mean_squared_error\"],\n",
        "         label=\"Training RMSE\")\n",
        "\n",
        "plt.plot(history.history[\"val_root_mean_squared_error\"],\n",
        "         label=\"Validation RMSE\")\n",
        "\n",
        "\n",
        "# Title + Axis Labels\n",
        "plt.title(\"Overfitting - Underfitting analysis\",\n",
        "          fontsize=40,\n",
        "          color=\"#AA0A7E\")\n",
        "\n",
        "plt.xlabel(\"Number of epochs\",\n",
        "           fontsize=15,\n",
        "           color=\"#750B9C\")\n",
        "\n",
        "plt.ylabel(\"RMSE\",\n",
        "           fontsize=15,\n",
        "           color=\"#750B9C\")\n",
        "\n",
        "\n",
        "plt.legend()\n",
        "\n",
        "plt.show()"
      ],
      "metadata": {
        "colab": {
          "base_uri": "https://localhost:8080/",
          "height": 379
        },
        "id": "rVqbcume69N4",
        "outputId": "daaba0ef-10f5-46e7-ffcf-1dadff0737a8"
      },
      "execution_count": 14,
      "outputs": [
        {
          "output_type": "display_data",
          "data": {
            "text/plain": [
              "<Figure size 1080x360 with 1 Axes>"
            ],
            "image/png": "[encoded data removed]"
          },
          "metadata": {
            "needs_background": "light"
          }
        }
      ]
    },
    {
      "cell_type": "markdown",
      "source": [
        "- There is no Overfitting problem\n",
        "\n",
        "<br>\n",
        "\n",
        "- When timestep was high, Val_RMS was high\n",
        "- When batchsize was high, Val_RMS was high\n",
        "\n",
        "<br>\n",
        "\n",
        "- In order to spot the best hyperparameter values, Grid Search can be used\n"
      ],
      "metadata": {
        "id": "vDMEcWSYHUfD"
      }
    },
    {
      "cell_type": "markdown",
      "metadata": {
        "id": "ezHP7aaZqvUk"
      },
      "source": [
        "<br>\n",
        "<br>\n",
        "<br>\n",
        "<br>\n",
        "<br>\n",
        "<br>\n",
        "<br>\n",
        "<br>\n",
        "<br>\n",
        "<br>\n",
        "\n",
        "# <font color=\"red\"> <font size=\"10px\"> Raw value transformation </font>\n"
      ]
    },
    {
      "cell_type": "markdown",
      "metadata": {
        "id": "rZYyY9CcL4xZ"
      },
      "source": [
        "- Now, all of the variables below, has the normalized values. Therefore, we need to return them back to their raw values\n",
        "\n"
      ]
    },
    {
      "cell_type": "code",
      "metadata": {
        "id": "9IdgxhXeqyHb"
      },
      "source": [
        "dataset = normalizer.inverse_transform(dataset)\n",
        "y_train = normalizer.inverse_transform([y_train])\n",
        "y_test  = normalizer.inverse_transform([y_test])"
      ],
      "execution_count": 15,
      "outputs": []
    },
    {
      "cell_type": "markdown",
      "metadata": {
        "id": "ImLNQRgYhG2z"
      },
      "source": [
        "<br>\n",
        "<br>\n",
        "<br>\n",
        "<br>\n",
        "<br>\n",
        "<br>\n",
        "<br>\n",
        "<br>\n",
        "<br>\n",
        "<br>\n",
        "\n",
        "# <font color=\"red\"> <font size=\"10px\"> Future predictions </font>\n"
      ]
    },
    {
      "cell_type": "markdown",
      "source": [
        "<br>\n",
        "<br>\n",
        "\n",
        "## <font color=\"orange\"> Example: 1st Forecast value\n",
        " </font>"
      ],
      "metadata": {
        "id": "2eTAgA8lfl6-"
      }
    },
    {
      "cell_type": "code",
      "metadata": {
        "colab": {
          "base_uri": "https://localhost:8080/"
        },
        "id": "ACwiw065segU",
        "outputId": "5094ad83-ae02-431e-b930-624e83a979ee"
      },
      "source": [
        "input_for_prediction = numpy.array([89, 98])                                        # Use the last 2 input values\n",
        "\n",
        "input_for_prediction = input_for_prediction.reshape((1, 1, amount_timestep))        # Reshape\n",
        "\n",
        "first_forecastvalue = model.predict(input_for_prediction)                           # Make prediction\n",
        " \n",
        "first_forecastvalue[0][0]                                                           # Forecast value"
      ],
      "execution_count": 16,
      "outputs": [
        {
          "output_type": "execute_result",
          "data": {
            "text/plain": [
              "179.97632"
            ]
          },
          "metadata": {},
          "execution_count": 16
        }
      ]
    },
    {
      "cell_type": "markdown",
      "source": [
        "<br>\n",
        "<br>\n",
        "\n",
        "## <font color=\"orange\"> Forecasting the next Nth values </font>"
      ],
      "metadata": {
        "id": "omZ6FLpogWd1"
      }
    },
    {
      "cell_type": "code",
      "source": [
        "predictions_list = []\n",
        "input_list  = [89, 98]\n",
        "\n",
        "for i in range (3):                                                                                   # Make 3 predictions\n",
        "      input_list3 = numpy.array(input_list).reshape((1, 1, amount_timestep)).astype(numpy.float32)    # Crate NumPy array + Reshape + Turn to Float\n",
        "      prediction = model.predict(input_list3)                                                         # Make prediction\n",
        "      predictions_list.append(prediction[0][0])                                                       # Append prediction to the predictions list\n",
        "      \n",
        "      input_list.append(prediction[0][0])                                                             # Append prediction to\n",
        "      input_list.pop(0)                                                                               # Remove the first element of the input_list\n",
        "\n",
        "predictions_list"
      ],
      "metadata": {
        "colab": {
          "base_uri": "https://localhost:8080/"
        },
        "id": "28kiPOC_gduy",
        "outputId": "80a2931a-4b72-4a98-9e69-4e5105c71eed"
      },
      "execution_count": 17,
      "outputs": [
        {
          "output_type": "execute_result",
          "data": {
            "text/plain": [
              "[179.97632, 262.98935, 420.28674]"
            ]
          },
          "metadata": {},
          "execution_count": 17
        }
      ]
    },
    {
      "cell_type": "markdown",
      "metadata": {
        "id": "zqplCXtThaA5"
      },
      "source": [
        "<br>\n",
        "<br>\n",
        "\n",
        "## <font color=\"orange\"> Visualize the future predictions along with the real data </font>"
      ]
    },
    {
      "cell_type": "code",
      "metadata": {
        "colab": {
          "base_uri": "https://localhost:8080/",
          "height": 320
        },
        "id": "4lP-c_DCha80",
        "outputId": "b3ee7d75-2a22-48e0-a197-5ce1497b7d7f"
      },
      "source": [
        "index_historical_data = numpy.arange(1, len(dataset)+1)     # Upper bound will be excluded\n",
        "index_future_data = numpy.arange(len(dataset)+1, 342)       # Upper bound will be excluded. Reminder for myself: Lower bound is 339 (to set the Upper bound) \n",
        "\n",
        "\n",
        "#######\n",
        "# Plot\n",
        "#######\n",
        "fig, ax = plt.subplots(figsize=(15,5))                      # Size of the figure\n",
        "\n",
        "plt.plot(index_historical_data, \n",
        "         dataset, \n",
        "         color=\"blue\")\n",
        "\n",
        "plt.plot(index_future_data, \n",
        "         predictions_list, \n",
        "         color=\"red\")\n",
        "\n",
        "plt.show()"
      ],
      "execution_count": 18,
      "outputs": [
        {
          "output_type": "display_data",
          "data": {
            "text/plain": [
              "<Figure size 1080x360 with 1 Axes>"
            ],
            "image/png": "[encoded data removed]"
          },
          "metadata": {
            "needs_background": "light"
          }
        }
      ]
    },
    {
      "cell_type": "code",
      "source": [
        ""
      ],
      "metadata": {
        "id": "jInYhTxRoc6-"
      },
      "execution_count": 18,
      "outputs": []
    }
  ]
}